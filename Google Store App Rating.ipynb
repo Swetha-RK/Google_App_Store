{
 "cells": [
  {
   "cell_type": "markdown",
   "metadata": {
    "id": "iiMV9joVUzC8"
   },
   "source": [
    "-----\n",
    "#  <font color='blue'> EDA & Data Preprocessing on Google Store App Rating Dataset.\n",
    "-----"
   ]
  },
  {
   "cell_type": "markdown",
   "metadata": {
    "id": "ezu1kGCpjHnG"
   },
   "source": [
    "### <font color = 'green'> **Domain:** </font> Mobile device apps"
   ]
  },
  {
   "cell_type": "markdown",
   "metadata": {
    "id": "4myIa-iGVMYR"
   },
   "source": [
    "### <font color = 'green'> **Context**\n",
    "The Play Store apps data has enormous potential to drive app-making businesses to success. However, many apps are being developed every single day and only a few of them become profitable.  It is important for developers to be able to predict the success of their app and incorporate features which makes an app successful.\n",
    "From the collected app data and user ratings from the app stores, let's use it to extract insightful information."
   ]
  },
  {
   "cell_type": "markdown",
   "metadata": {
    "id": "afCwwcpjj6oV"
   },
   "source": [
    "### <font color = 'green'> **Objective**\n",
    "The Goal is to explore the data and pre-process it in order to use it to develop machine learning models."
   ]
  },
  {
   "cell_type": "markdown",
   "metadata": {
    "id": "DW1MreAmVGtm"
   },
   "source": [
    "### <font color = 'green'> **Data Set Information**\n",
    "Web scraped data of 10k Play Store apps for analysing the Android market. Each app (row) has values for category, rating, size, and more."
   ]
  },
  {
   "cell_type": "markdown",
   "metadata": {
    "id": "xKDxI9nOkDn4"
   },
   "source": [
    "#### <font color = 'green'> **Attributes:**\n",
    "- **App:** Application name\n",
    "- **Category:** Category the app belongs to\n",
    "- **Rating:** Overall user rating of the app \n",
    "- **Reviews:** Number of user reviews for the app\n",
    "- **Size:** Size of the app \n",
    "- **Installs:** Number of user downloads/installs for the app \n",
    "- **Type:** Paid or Free\n",
    "- **Price:** Price of the app \n",
    "- **Content Rating:** Age group the app is targeted at - Children / Mature 21+ / Adult\n",
    "- **Genres:** An app can belong to multiple genres (apart from its main category). For eg, a musical family game will belong to Music, Game, Family genres.\n",
    "- **Last Updated:** Date when the app was last updated on Play Store \n",
    "- **Current Ver:** Current version of the app available on Play Store \n",
    "- **Android Ver:** Min required Android version \n"
   ]
  },
  {
   "cell_type": "markdown",
   "metadata": {
    "id": "crCUDGVWjHnI"
   },
   "source": [
    "-------------"
   ]
  },
  {
   "cell_type": "markdown",
   "metadata": {
    "id": "vrIjMJ6G0eME"
   },
   "source": [
    "<font size=3> 1. Import required libraries and read the dataset"
   ]
  },
  {
   "cell_type": "code",
   "execution_count": 1,
   "metadata": {
    "id": "nt4fqZLL0eME"
   },
   "outputs": [],
   "source": [
    "import pandas as pd\n",
    "import numpy as np\n",
    "import seaborn as sns\n",
    "import matplotlib.pyplot as plt\n",
    "import warnings\n",
    "warnings.filterwarnings('ignore')\n",
    "\n",
    "from sklearn.model_selection import train_test_split\n",
    "from sklearn.preprocessing import StandardScaler, MinMaxScaler\n",
    "from sklearn.preprocessing import LabelEncoder"
   ]
  },
  {
   "cell_type": "code",
   "execution_count": 3,
   "metadata": {
    "id": "ot0tuDRP0eMG"
   },
   "outputs": [],
   "source": [
    "df = pd.read_csv('Apps_data.csv')"
   ]
  },
  {
   "cell_type": "markdown",
   "metadata": {
    "id": "3CSJMCpN0eMH"
   },
   "source": [
    "<font size=3> 2. Check the first few samples, shape, info of the data and try to familiarize yourself with different features."
   ]
  },
  {
   "cell_type": "code",
   "execution_count": 4,
   "metadata": {
    "id": "Tzh2Q8QT0eMH",
    "outputId": "b411028a-a611-4a5f-b7cd-091d384686d5"
   },
   "outputs": [
    {
     "data": {
      "text/html": [
       "<div>\n",
       "<style scoped>\n",
       "    .dataframe tbody tr th:only-of-type {\n",
       "        vertical-align: middle;\n",
       "    }\n",
       "\n",
       "    .dataframe tbody tr th {\n",
       "        vertical-align: top;\n",
       "    }\n",
       "\n",
       "    .dataframe thead th {\n",
       "        text-align: right;\n",
       "    }\n",
       "</style>\n",
       "<table border=\"1\" class=\"dataframe\">\n",
       "  <thead>\n",
       "    <tr style=\"text-align: right;\">\n",
       "      <th></th>\n",
       "      <th>App</th>\n",
       "      <th>Category</th>\n",
       "      <th>Rating</th>\n",
       "      <th>Reviews</th>\n",
       "      <th>Size</th>\n",
       "      <th>Installs</th>\n",
       "      <th>Type</th>\n",
       "      <th>Price</th>\n",
       "      <th>Content Rating</th>\n",
       "      <th>Genres</th>\n",
       "      <th>Last Updated</th>\n",
       "      <th>Current Ver</th>\n",
       "      <th>Android Ver</th>\n",
       "    </tr>\n",
       "  </thead>\n",
       "  <tbody>\n",
       "    <tr>\n",
       "      <th>0</th>\n",
       "      <td>Photo Editor &amp; Candy Camera &amp; Grid &amp; ScrapBook</td>\n",
       "      <td>ART_AND_DESIGN</td>\n",
       "      <td>4.1</td>\n",
       "      <td>159</td>\n",
       "      <td>19M</td>\n",
       "      <td>10,000+</td>\n",
       "      <td>Free</td>\n",
       "      <td>0</td>\n",
       "      <td>Everyone</td>\n",
       "      <td>Art &amp; Design</td>\n",
       "      <td>January 7, 2018</td>\n",
       "      <td>1.0.0</td>\n",
       "      <td>4.0.3 and up</td>\n",
       "    </tr>\n",
       "    <tr>\n",
       "      <th>1</th>\n",
       "      <td>Coloring book moana</td>\n",
       "      <td>ART_AND_DESIGN</td>\n",
       "      <td>3.9</td>\n",
       "      <td>967</td>\n",
       "      <td>14M</td>\n",
       "      <td>500,000+</td>\n",
       "      <td>Free</td>\n",
       "      <td>0</td>\n",
       "      <td>Everyone</td>\n",
       "      <td>Art &amp; Design;Pretend Play</td>\n",
       "      <td>January 15, 2018</td>\n",
       "      <td>2.0.0</td>\n",
       "      <td>4.0.3 and up</td>\n",
       "    </tr>\n",
       "    <tr>\n",
       "      <th>2</th>\n",
       "      <td>U Launcher Lite – FREE Live Cool Themes, Hide ...</td>\n",
       "      <td>ART_AND_DESIGN</td>\n",
       "      <td>4.7</td>\n",
       "      <td>87510</td>\n",
       "      <td>8.7M</td>\n",
       "      <td>5,000,000+</td>\n",
       "      <td>Free</td>\n",
       "      <td>0</td>\n",
       "      <td>Everyone</td>\n",
       "      <td>Art &amp; Design</td>\n",
       "      <td>August 1, 2018</td>\n",
       "      <td>1.2.4</td>\n",
       "      <td>4.0.3 and up</td>\n",
       "    </tr>\n",
       "    <tr>\n",
       "      <th>3</th>\n",
       "      <td>Sketch - Draw &amp; Paint</td>\n",
       "      <td>ART_AND_DESIGN</td>\n",
       "      <td>4.5</td>\n",
       "      <td>215644</td>\n",
       "      <td>25M</td>\n",
       "      <td>50,000,000+</td>\n",
       "      <td>Free</td>\n",
       "      <td>0</td>\n",
       "      <td>Teen</td>\n",
       "      <td>Art &amp; Design</td>\n",
       "      <td>June 8, 2018</td>\n",
       "      <td>Varies with device</td>\n",
       "      <td>4.2 and up</td>\n",
       "    </tr>\n",
       "    <tr>\n",
       "      <th>4</th>\n",
       "      <td>Pixel Draw - Number Art Coloring Book</td>\n",
       "      <td>ART_AND_DESIGN</td>\n",
       "      <td>4.3</td>\n",
       "      <td>967</td>\n",
       "      <td>2.8M</td>\n",
       "      <td>100,000+</td>\n",
       "      <td>Free</td>\n",
       "      <td>0</td>\n",
       "      <td>Everyone</td>\n",
       "      <td>Art &amp; Design;Creativity</td>\n",
       "      <td>June 20, 2018</td>\n",
       "      <td>1.1</td>\n",
       "      <td>4.4 and up</td>\n",
       "    </tr>\n",
       "  </tbody>\n",
       "</table>\n",
       "</div>"
      ],
      "text/plain": [
       "                                                 App        Category  Rating  \\\n",
       "0     Photo Editor & Candy Camera & Grid & ScrapBook  ART_AND_DESIGN     4.1   \n",
       "1                                Coloring book moana  ART_AND_DESIGN     3.9   \n",
       "2  U Launcher Lite – FREE Live Cool Themes, Hide ...  ART_AND_DESIGN     4.7   \n",
       "3                              Sketch - Draw & Paint  ART_AND_DESIGN     4.5   \n",
       "4              Pixel Draw - Number Art Coloring Book  ART_AND_DESIGN     4.3   \n",
       "\n",
       "  Reviews  Size     Installs  Type Price Content Rating  \\\n",
       "0     159   19M      10,000+  Free     0       Everyone   \n",
       "1     967   14M     500,000+  Free     0       Everyone   \n",
       "2   87510  8.7M   5,000,000+  Free     0       Everyone   \n",
       "3  215644   25M  50,000,000+  Free     0           Teen   \n",
       "4     967  2.8M     100,000+  Free     0       Everyone   \n",
       "\n",
       "                      Genres      Last Updated         Current Ver  \\\n",
       "0               Art & Design   January 7, 2018               1.0.0   \n",
       "1  Art & Design;Pretend Play  January 15, 2018               2.0.0   \n",
       "2               Art & Design    August 1, 2018               1.2.4   \n",
       "3               Art & Design      June 8, 2018  Varies with device   \n",
       "4    Art & Design;Creativity     June 20, 2018                 1.1   \n",
       "\n",
       "    Android Ver  \n",
       "0  4.0.3 and up  \n",
       "1  4.0.3 and up  \n",
       "2  4.0.3 and up  \n",
       "3    4.2 and up  \n",
       "4    4.4 and up  "
      ]
     },
     "execution_count": 4,
     "metadata": {},
     "output_type": "execute_result"
    }
   ],
   "source": [
    "## lets check first few samples.\n",
    "df.head()"
   ]
  },
  {
   "cell_type": "code",
   "execution_count": 5,
   "metadata": {
    "id": "i31z3R_F0eMI",
    "outputId": "a396ff8a-b6dc-4b32-a17d-2bcbb5633823"
   },
   "outputs": [
    {
     "data": {
      "text/plain": [
       "(10841, 13)"
      ]
     },
     "execution_count": 5,
     "metadata": {},
     "output_type": "execute_result"
    }
   ],
   "source": [
    "## lets check the shape\n",
    "df.shape"
   ]
  },
  {
   "cell_type": "code",
   "execution_count": 6,
   "metadata": {
    "id": "E_EFIdV20eMI",
    "outputId": "2ea58958-f58f-4dff-f8f1-706beda9bb11"
   },
   "outputs": [
    {
     "name": "stdout",
     "output_type": "stream",
     "text": [
      "<class 'pandas.core.frame.DataFrame'>\n",
      "RangeIndex: 10841 entries, 0 to 10840\n",
      "Data columns (total 13 columns):\n",
      " #   Column          Non-Null Count  Dtype  \n",
      "---  ------          --------------  -----  \n",
      " 0   App             10841 non-null  object \n",
      " 1   Category        10841 non-null  object \n",
      " 2   Rating          9367 non-null   float64\n",
      " 3   Reviews         10841 non-null  object \n",
      " 4   Size            10841 non-null  object \n",
      " 5   Installs        10841 non-null  object \n",
      " 6   Type            10840 non-null  object \n",
      " 7   Price           10841 non-null  object \n",
      " 8   Content Rating  10840 non-null  object \n",
      " 9   Genres          10841 non-null  object \n",
      " 10  Last Updated    10841 non-null  object \n",
      " 11  Current Ver     10833 non-null  object \n",
      " 12  Android Ver     10838 non-null  object \n",
      "dtypes: float64(1), object(12)\n",
      "memory usage: 1.1+ MB\n"
     ]
    }
   ],
   "source": [
    "## lets check the basic information of the dataset\n",
    "df.info()"
   ]
  },
  {
   "cell_type": "markdown",
   "metadata": {
    "id": "moX2DYvCVVjj"
   },
   "source": [
    "### <font color = 'green'> **EDA and Preprocessing**"
   ]
  },
  {
   "cell_type": "markdown",
   "metadata": {
    "id": "ZUhd1WCYo2bP"
   },
   "source": [
    "<font size=3> 3. Check summary statistics of the dataset. List out the columns that need to be worked upon for model building"
   ]
  },
  {
   "cell_type": "code",
   "execution_count": 7,
   "metadata": {
    "colab": {
     "base_uri": "https://localhost:8080/",
     "height": 461
    },
    "id": "SL2KB6R9Dnrb",
    "outputId": "7ce4b385-c834-4545-ea08-41a9b49aa1ae",
    "scrolled": true
   },
   "outputs": [
    {
     "data": {
      "text/html": [
       "<div>\n",
       "<style scoped>\n",
       "    .dataframe tbody tr th:only-of-type {\n",
       "        vertical-align: middle;\n",
       "    }\n",
       "\n",
       "    .dataframe tbody tr th {\n",
       "        vertical-align: top;\n",
       "    }\n",
       "\n",
       "    .dataframe thead th {\n",
       "        text-align: right;\n",
       "    }\n",
       "</style>\n",
       "<table border=\"1\" class=\"dataframe\">\n",
       "  <thead>\n",
       "    <tr style=\"text-align: right;\">\n",
       "      <th></th>\n",
       "      <th>App</th>\n",
       "      <th>Category</th>\n",
       "      <th>Rating</th>\n",
       "      <th>Reviews</th>\n",
       "      <th>Size</th>\n",
       "      <th>Installs</th>\n",
       "      <th>Type</th>\n",
       "      <th>Price</th>\n",
       "      <th>Content Rating</th>\n",
       "      <th>Genres</th>\n",
       "      <th>Last Updated</th>\n",
       "      <th>Current Ver</th>\n",
       "      <th>Android Ver</th>\n",
       "    </tr>\n",
       "  </thead>\n",
       "  <tbody>\n",
       "    <tr>\n",
       "      <th>count</th>\n",
       "      <td>10841</td>\n",
       "      <td>10841</td>\n",
       "      <td>9367.000000</td>\n",
       "      <td>10841</td>\n",
       "      <td>10841</td>\n",
       "      <td>10841</td>\n",
       "      <td>10840</td>\n",
       "      <td>10841</td>\n",
       "      <td>10840</td>\n",
       "      <td>10841</td>\n",
       "      <td>10841</td>\n",
       "      <td>10833</td>\n",
       "      <td>10838</td>\n",
       "    </tr>\n",
       "    <tr>\n",
       "      <th>unique</th>\n",
       "      <td>9660</td>\n",
       "      <td>34</td>\n",
       "      <td>NaN</td>\n",
       "      <td>6002</td>\n",
       "      <td>462</td>\n",
       "      <td>22</td>\n",
       "      <td>3</td>\n",
       "      <td>93</td>\n",
       "      <td>6</td>\n",
       "      <td>120</td>\n",
       "      <td>1378</td>\n",
       "      <td>2832</td>\n",
       "      <td>33</td>\n",
       "    </tr>\n",
       "    <tr>\n",
       "      <th>top</th>\n",
       "      <td>ROBLOX</td>\n",
       "      <td>FAMILY</td>\n",
       "      <td>NaN</td>\n",
       "      <td>0</td>\n",
       "      <td>Varies with device</td>\n",
       "      <td>1,000,000+</td>\n",
       "      <td>Free</td>\n",
       "      <td>0</td>\n",
       "      <td>Everyone</td>\n",
       "      <td>Tools</td>\n",
       "      <td>August 3, 2018</td>\n",
       "      <td>Varies with device</td>\n",
       "      <td>4.1 and up</td>\n",
       "    </tr>\n",
       "    <tr>\n",
       "      <th>freq</th>\n",
       "      <td>9</td>\n",
       "      <td>1972</td>\n",
       "      <td>NaN</td>\n",
       "      <td>596</td>\n",
       "      <td>1695</td>\n",
       "      <td>1579</td>\n",
       "      <td>10039</td>\n",
       "      <td>10040</td>\n",
       "      <td>8714</td>\n",
       "      <td>842</td>\n",
       "      <td>326</td>\n",
       "      <td>1459</td>\n",
       "      <td>2451</td>\n",
       "    </tr>\n",
       "    <tr>\n",
       "      <th>mean</th>\n",
       "      <td>NaN</td>\n",
       "      <td>NaN</td>\n",
       "      <td>4.193338</td>\n",
       "      <td>NaN</td>\n",
       "      <td>NaN</td>\n",
       "      <td>NaN</td>\n",
       "      <td>NaN</td>\n",
       "      <td>NaN</td>\n",
       "      <td>NaN</td>\n",
       "      <td>NaN</td>\n",
       "      <td>NaN</td>\n",
       "      <td>NaN</td>\n",
       "      <td>NaN</td>\n",
       "    </tr>\n",
       "    <tr>\n",
       "      <th>std</th>\n",
       "      <td>NaN</td>\n",
       "      <td>NaN</td>\n",
       "      <td>0.537431</td>\n",
       "      <td>NaN</td>\n",
       "      <td>NaN</td>\n",
       "      <td>NaN</td>\n",
       "      <td>NaN</td>\n",
       "      <td>NaN</td>\n",
       "      <td>NaN</td>\n",
       "      <td>NaN</td>\n",
       "      <td>NaN</td>\n",
       "      <td>NaN</td>\n",
       "      <td>NaN</td>\n",
       "    </tr>\n",
       "    <tr>\n",
       "      <th>min</th>\n",
       "      <td>NaN</td>\n",
       "      <td>NaN</td>\n",
       "      <td>1.000000</td>\n",
       "      <td>NaN</td>\n",
       "      <td>NaN</td>\n",
       "      <td>NaN</td>\n",
       "      <td>NaN</td>\n",
       "      <td>NaN</td>\n",
       "      <td>NaN</td>\n",
       "      <td>NaN</td>\n",
       "      <td>NaN</td>\n",
       "      <td>NaN</td>\n",
       "      <td>NaN</td>\n",
       "    </tr>\n",
       "    <tr>\n",
       "      <th>25%</th>\n",
       "      <td>NaN</td>\n",
       "      <td>NaN</td>\n",
       "      <td>4.000000</td>\n",
       "      <td>NaN</td>\n",
       "      <td>NaN</td>\n",
       "      <td>NaN</td>\n",
       "      <td>NaN</td>\n",
       "      <td>NaN</td>\n",
       "      <td>NaN</td>\n",
       "      <td>NaN</td>\n",
       "      <td>NaN</td>\n",
       "      <td>NaN</td>\n",
       "      <td>NaN</td>\n",
       "    </tr>\n",
       "    <tr>\n",
       "      <th>50%</th>\n",
       "      <td>NaN</td>\n",
       "      <td>NaN</td>\n",
       "      <td>4.300000</td>\n",
       "      <td>NaN</td>\n",
       "      <td>NaN</td>\n",
       "      <td>NaN</td>\n",
       "      <td>NaN</td>\n",
       "      <td>NaN</td>\n",
       "      <td>NaN</td>\n",
       "      <td>NaN</td>\n",
       "      <td>NaN</td>\n",
       "      <td>NaN</td>\n",
       "      <td>NaN</td>\n",
       "    </tr>\n",
       "    <tr>\n",
       "      <th>75%</th>\n",
       "      <td>NaN</td>\n",
       "      <td>NaN</td>\n",
       "      <td>4.500000</td>\n",
       "      <td>NaN</td>\n",
       "      <td>NaN</td>\n",
       "      <td>NaN</td>\n",
       "      <td>NaN</td>\n",
       "      <td>NaN</td>\n",
       "      <td>NaN</td>\n",
       "      <td>NaN</td>\n",
       "      <td>NaN</td>\n",
       "      <td>NaN</td>\n",
       "      <td>NaN</td>\n",
       "    </tr>\n",
       "    <tr>\n",
       "      <th>max</th>\n",
       "      <td>NaN</td>\n",
       "      <td>NaN</td>\n",
       "      <td>19.000000</td>\n",
       "      <td>NaN</td>\n",
       "      <td>NaN</td>\n",
       "      <td>NaN</td>\n",
       "      <td>NaN</td>\n",
       "      <td>NaN</td>\n",
       "      <td>NaN</td>\n",
       "      <td>NaN</td>\n",
       "      <td>NaN</td>\n",
       "      <td>NaN</td>\n",
       "      <td>NaN</td>\n",
       "    </tr>\n",
       "  </tbody>\n",
       "</table>\n",
       "</div>"
      ],
      "text/plain": [
       "           App Category       Rating Reviews                Size    Installs  \\\n",
       "count    10841    10841  9367.000000   10841               10841       10841   \n",
       "unique    9660       34          NaN    6002                 462          22   \n",
       "top     ROBLOX   FAMILY          NaN       0  Varies with device  1,000,000+   \n",
       "freq         9     1972          NaN     596                1695        1579   \n",
       "mean       NaN      NaN     4.193338     NaN                 NaN         NaN   \n",
       "std        NaN      NaN     0.537431     NaN                 NaN         NaN   \n",
       "min        NaN      NaN     1.000000     NaN                 NaN         NaN   \n",
       "25%        NaN      NaN     4.000000     NaN                 NaN         NaN   \n",
       "50%        NaN      NaN     4.300000     NaN                 NaN         NaN   \n",
       "75%        NaN      NaN     4.500000     NaN                 NaN         NaN   \n",
       "max        NaN      NaN    19.000000     NaN                 NaN         NaN   \n",
       "\n",
       "         Type  Price Content Rating Genres    Last Updated  \\\n",
       "count   10840  10841          10840  10841           10841   \n",
       "unique      3     93              6    120            1378   \n",
       "top      Free      0       Everyone  Tools  August 3, 2018   \n",
       "freq    10039  10040           8714    842             326   \n",
       "mean      NaN    NaN            NaN    NaN             NaN   \n",
       "std       NaN    NaN            NaN    NaN             NaN   \n",
       "min       NaN    NaN            NaN    NaN             NaN   \n",
       "25%       NaN    NaN            NaN    NaN             NaN   \n",
       "50%       NaN    NaN            NaN    NaN             NaN   \n",
       "75%       NaN    NaN            NaN    NaN             NaN   \n",
       "max       NaN    NaN            NaN    NaN             NaN   \n",
       "\n",
       "               Current Ver Android Ver  \n",
       "count                10833       10838  \n",
       "unique                2832          33  \n",
       "top     Varies with device  4.1 and up  \n",
       "freq                  1459        2451  \n",
       "mean                   NaN         NaN  \n",
       "std                    NaN         NaN  \n",
       "min                    NaN         NaN  \n",
       "25%                    NaN         NaN  \n",
       "50%                    NaN         NaN  \n",
       "75%                    NaN         NaN  \n",
       "max                    NaN         NaN  "
      ]
     },
     "execution_count": 7,
     "metadata": {},
     "output_type": "execute_result"
    }
   ],
   "source": [
    "## Lets check the summary statistics for all the columns.\n",
    "df.describe(include = 'all')"
   ]
  },
  {
   "cell_type": "markdown",
   "metadata": {
    "id": "dYzXjoshYu5m"
   },
   "source": [
    "#### Observations:\n",
    "- App : 9660 unique values. Top value seems to ROBOLOX. We could have duplicate entries here.\n",
    "- Category - There are 34 categories and 120 genres. Family is a Top category. \n",
    "- Rating - min value is 1 and max is 19 ( which seems like a miss)\n",
    "- Reviews - there are ~600 apps with zero reviews\n",
    "- Size - Many app size varies with device and rest are in MBs\n",
    "- Installs - many apps have very high install count\n",
    "- Type - Most of the apps are free. There are only three categories here.\n",
    "- Price - More than 10k apps are free of cost\n",
    "- Content Rating - Most of teh apps are for everyone\n",
    "- And Ver. - 4.1 and up is reqd for most of the apps\n",
    "- Type and Price could be highly correlated\n",
    "- Category and Genre could be highly correlated"
   ]
  },
  {
   "cell_type": "markdown",
   "metadata": {
    "id": "0ffZBB1bYu5m"
   },
   "source": [
    "#### Need to be worked on before model building:\n",
    "1. We can drop Last Updated, Current Ver, and Andriod Ver as they have too many categories and are not very importatnt in prediction the rating\n",
    "\n",
    "2. App name can be dropped after doing basic analysis\n",
    "\n",
    "3. Category Column - Important to have. Requires feature engineering\n",
    "\n",
    "4. Reviews - Need to convert it to numeric column\n",
    "\n",
    "5. Installs - Need to convert it to numeric column\n",
    "\n",
    "6. Type - Convert it to numeric\n",
    "\n",
    "7. Price - Need to remove $ from the values and make it numeric\n",
    "\n",
    "8. Content Rating - Requires encoding\n",
    "\n",
    "9. Genre - Important to have. Requires feature engineering to make it numeric"
   ]
  },
  {
   "cell_type": "markdown",
   "metadata": {
    "id": "aso8HK_q0eMK"
   },
   "source": [
    "<font size=3> 4. Check if there are any duplicate records in the dataset? if any drop them."
   ]
  },
  {
   "cell_type": "markdown",
   "metadata": {
    "id": "TU2K7zTTEQEW"
   },
   "source": [
    "Let's look closely at the apps in the data "
   ]
  },
  {
   "cell_type": "code",
   "execution_count": 8,
   "metadata": {
    "colab": {
     "base_uri": "https://localhost:8080/"
    },
    "id": "nTIbOP6KEPy0",
    "outputId": "9aedfd82-6120-4e36-ef2a-c9a4a1e78983"
   },
   "outputs": [
    {
     "data": {
      "text/plain": [
       "ROBLOX                                                9\n",
       "CBS Sports App - Scores, News, Stats & Watch Live     8\n",
       "ESPN                                                  7\n",
       "Duolingo: Learn Languages Free                        7\n",
       "Candy Crush Saga                                      7\n",
       "8 Ball Pool                                           7\n",
       "slither.io                                            6\n",
       "Bubble Shooter                                        6\n",
       "Zombie Catchers                                       6\n",
       "Bleacher Report: sports news, scores, & highlights    6\n",
       "Bowmasters                                            6\n",
       "Subway Surfers                                        6\n",
       "Nick                                                  6\n",
       "Temple Run 2                                          6\n",
       "Helix Jump                                            6\n",
       "Sniper 3D Gun Shooter: Free Shooting Games - FPS      6\n",
       "MLB At Bat                                            5\n",
       "MeetMe: Chat & Meet New People                        5\n",
       "Skyscanner                                            5\n",
       "Granny                                                5\n",
       "Name: App, dtype: int64"
      ]
     },
     "execution_count": 8,
     "metadata": {},
     "output_type": "execute_result"
    }
   ],
   "source": [
    "# Let's look closely at the apps in the data \n",
    "df['App'].value_counts().head(20)"
   ]
  },
  {
   "cell_type": "markdown",
   "metadata": {
    "id": "mo-a8KTuYu5q"
   },
   "source": [
    "We see that few apps have more than one entries. Which tells us that there few duplicate entries for these apps.\n",
    "\n",
    "Before we drop the app column, we will verify if these entries are really duplicate and then remove these."
   ]
  },
  {
   "cell_type": "markdown",
   "metadata": {
    "id": "GubUMuckEUcu"
   },
   "source": [
    "Take 3 sample Apps for exploration (for eg: 'ROBLOX', 'ESPN','Nick')"
   ]
  },
  {
   "cell_type": "code",
   "execution_count": 9,
   "metadata": {
    "colab": {
     "base_uri": "https://localhost:8080/",
     "height": 1000
    },
    "id": "QbK_Ng70EfLm",
    "outputId": "51c85406-2206-454b-8799-0ebd6ada7902",
    "scrolled": true
   },
   "outputs": [
    {
     "data": {
      "text/html": [
       "<div>\n",
       "<style scoped>\n",
       "    .dataframe tbody tr th:only-of-type {\n",
       "        vertical-align: middle;\n",
       "    }\n",
       "\n",
       "    .dataframe tbody tr th {\n",
       "        vertical-align: top;\n",
       "    }\n",
       "\n",
       "    .dataframe thead th {\n",
       "        text-align: right;\n",
       "    }\n",
       "</style>\n",
       "<table border=\"1\" class=\"dataframe\">\n",
       "  <thead>\n",
       "    <tr style=\"text-align: right;\">\n",
       "      <th></th>\n",
       "      <th>App</th>\n",
       "      <th>Category</th>\n",
       "      <th>Rating</th>\n",
       "      <th>Reviews</th>\n",
       "      <th>Size</th>\n",
       "      <th>Installs</th>\n",
       "      <th>Type</th>\n",
       "      <th>Price</th>\n",
       "      <th>Content Rating</th>\n",
       "      <th>Genres</th>\n",
       "      <th>Last Updated</th>\n",
       "      <th>Current Ver</th>\n",
       "      <th>Android Ver</th>\n",
       "    </tr>\n",
       "  </thead>\n",
       "  <tbody>\n",
       "    <tr>\n",
       "      <th>4069</th>\n",
       "      <td>ESPN</td>\n",
       "      <td>SPORTS</td>\n",
       "      <td>4.2</td>\n",
       "      <td>521081</td>\n",
       "      <td>Varies with device</td>\n",
       "      <td>10,000,000+</td>\n",
       "      <td>Free</td>\n",
       "      <td>0</td>\n",
       "      <td>Everyone 10+</td>\n",
       "      <td>Sports</td>\n",
       "      <td>July 19, 2018</td>\n",
       "      <td>Varies with device</td>\n",
       "      <td>5.0 and up</td>\n",
       "    </tr>\n",
       "    <tr>\n",
       "      <th>3072</th>\n",
       "      <td>ESPN</td>\n",
       "      <td>SPORTS</td>\n",
       "      <td>4.2</td>\n",
       "      <td>521140</td>\n",
       "      <td>Varies with device</td>\n",
       "      <td>10,000,000+</td>\n",
       "      <td>Free</td>\n",
       "      <td>0</td>\n",
       "      <td>Everyone 10+</td>\n",
       "      <td>Sports</td>\n",
       "      <td>July 19, 2018</td>\n",
       "      <td>Varies with device</td>\n",
       "      <td>5.0 and up</td>\n",
       "    </tr>\n",
       "    <tr>\n",
       "      <th>3060</th>\n",
       "      <td>ESPN</td>\n",
       "      <td>SPORTS</td>\n",
       "      <td>4.2</td>\n",
       "      <td>521140</td>\n",
       "      <td>Varies with device</td>\n",
       "      <td>10,000,000+</td>\n",
       "      <td>Free</td>\n",
       "      <td>0</td>\n",
       "      <td>Everyone 10+</td>\n",
       "      <td>Sports</td>\n",
       "      <td>July 19, 2018</td>\n",
       "      <td>Varies with device</td>\n",
       "      <td>5.0 and up</td>\n",
       "    </tr>\n",
       "    <tr>\n",
       "      <th>3048</th>\n",
       "      <td>ESPN</td>\n",
       "      <td>SPORTS</td>\n",
       "      <td>4.2</td>\n",
       "      <td>521140</td>\n",
       "      <td>Varies with device</td>\n",
       "      <td>10,000,000+</td>\n",
       "      <td>Free</td>\n",
       "      <td>0</td>\n",
       "      <td>Everyone 10+</td>\n",
       "      <td>Sports</td>\n",
       "      <td>July 19, 2018</td>\n",
       "      <td>Varies with device</td>\n",
       "      <td>5.0 and up</td>\n",
       "    </tr>\n",
       "    <tr>\n",
       "      <th>3018</th>\n",
       "      <td>ESPN</td>\n",
       "      <td>SPORTS</td>\n",
       "      <td>4.2</td>\n",
       "      <td>521138</td>\n",
       "      <td>Varies with device</td>\n",
       "      <td>10,000,000+</td>\n",
       "      <td>Free</td>\n",
       "      <td>0</td>\n",
       "      <td>Everyone 10+</td>\n",
       "      <td>Sports</td>\n",
       "      <td>July 19, 2018</td>\n",
       "      <td>Varies with device</td>\n",
       "      <td>5.0 and up</td>\n",
       "    </tr>\n",
       "    <tr>\n",
       "      <th>3010</th>\n",
       "      <td>ESPN</td>\n",
       "      <td>SPORTS</td>\n",
       "      <td>4.2</td>\n",
       "      <td>521138</td>\n",
       "      <td>Varies with device</td>\n",
       "      <td>10,000,000+</td>\n",
       "      <td>Free</td>\n",
       "      <td>0</td>\n",
       "      <td>Everyone 10+</td>\n",
       "      <td>Sports</td>\n",
       "      <td>July 19, 2018</td>\n",
       "      <td>Varies with device</td>\n",
       "      <td>5.0 and up</td>\n",
       "    </tr>\n",
       "    <tr>\n",
       "      <th>2959</th>\n",
       "      <td>ESPN</td>\n",
       "      <td>SPORTS</td>\n",
       "      <td>4.2</td>\n",
       "      <td>521138</td>\n",
       "      <td>Varies with device</td>\n",
       "      <td>10,000,000+</td>\n",
       "      <td>Free</td>\n",
       "      <td>0</td>\n",
       "      <td>Everyone 10+</td>\n",
       "      <td>Sports</td>\n",
       "      <td>July 19, 2018</td>\n",
       "      <td>Varies with device</td>\n",
       "      <td>5.0 and up</td>\n",
       "    </tr>\n",
       "    <tr>\n",
       "      <th>917</th>\n",
       "      <td>Nick</td>\n",
       "      <td>ENTERTAINMENT</td>\n",
       "      <td>4.2</td>\n",
       "      <td>123279</td>\n",
       "      <td>25M</td>\n",
       "      <td>10,000,000+</td>\n",
       "      <td>Free</td>\n",
       "      <td>0</td>\n",
       "      <td>Everyone 10+</td>\n",
       "      <td>Entertainment;Music &amp; Video</td>\n",
       "      <td>January 24, 2018</td>\n",
       "      <td>2.0.8</td>\n",
       "      <td>4.4 and up</td>\n",
       "    </tr>\n",
       "    <tr>\n",
       "      <th>2226</th>\n",
       "      <td>Nick</td>\n",
       "      <td>FAMILY</td>\n",
       "      <td>4.2</td>\n",
       "      <td>123322</td>\n",
       "      <td>25M</td>\n",
       "      <td>10,000,000+</td>\n",
       "      <td>Free</td>\n",
       "      <td>0</td>\n",
       "      <td>Everyone 10+</td>\n",
       "      <td>Entertainment;Music &amp; Video</td>\n",
       "      <td>January 24, 2018</td>\n",
       "      <td>2.0.8</td>\n",
       "      <td>4.4 and up</td>\n",
       "    </tr>\n",
       "    <tr>\n",
       "      <th>6086</th>\n",
       "      <td>Nick</td>\n",
       "      <td>FAMILY</td>\n",
       "      <td>4.2</td>\n",
       "      <td>123309</td>\n",
       "      <td>25M</td>\n",
       "      <td>10,000,000+</td>\n",
       "      <td>Free</td>\n",
       "      <td>0</td>\n",
       "      <td>Everyone 10+</td>\n",
       "      <td>Entertainment;Music &amp; Video</td>\n",
       "      <td>January 24, 2018</td>\n",
       "      <td>2.0.8</td>\n",
       "      <td>4.4 and up</td>\n",
       "    </tr>\n",
       "    <tr>\n",
       "      <th>992</th>\n",
       "      <td>Nick</td>\n",
       "      <td>ENTERTAINMENT</td>\n",
       "      <td>4.2</td>\n",
       "      <td>123279</td>\n",
       "      <td>25M</td>\n",
       "      <td>10,000,000+</td>\n",
       "      <td>Free</td>\n",
       "      <td>0</td>\n",
       "      <td>Everyone 10+</td>\n",
       "      <td>Entertainment;Music &amp; Video</td>\n",
       "      <td>January 24, 2018</td>\n",
       "      <td>2.0.8</td>\n",
       "      <td>4.4 and up</td>\n",
       "    </tr>\n",
       "    <tr>\n",
       "      <th>963</th>\n",
       "      <td>Nick</td>\n",
       "      <td>ENTERTAINMENT</td>\n",
       "      <td>4.2</td>\n",
       "      <td>123279</td>\n",
       "      <td>25M</td>\n",
       "      <td>10,000,000+</td>\n",
       "      <td>Free</td>\n",
       "      <td>0</td>\n",
       "      <td>Everyone 10+</td>\n",
       "      <td>Entertainment;Music &amp; Video</td>\n",
       "      <td>January 24, 2018</td>\n",
       "      <td>2.0.8</td>\n",
       "      <td>4.4 and up</td>\n",
       "    </tr>\n",
       "    <tr>\n",
       "      <th>937</th>\n",
       "      <td>Nick</td>\n",
       "      <td>ENTERTAINMENT</td>\n",
       "      <td>4.2</td>\n",
       "      <td>123279</td>\n",
       "      <td>25M</td>\n",
       "      <td>10,000,000+</td>\n",
       "      <td>Free</td>\n",
       "      <td>0</td>\n",
       "      <td>Everyone 10+</td>\n",
       "      <td>Entertainment;Music &amp; Video</td>\n",
       "      <td>January 24, 2018</td>\n",
       "      <td>2.0.8</td>\n",
       "      <td>4.4 and up</td>\n",
       "    </tr>\n",
       "    <tr>\n",
       "      <th>4527</th>\n",
       "      <td>ROBLOX</td>\n",
       "      <td>FAMILY</td>\n",
       "      <td>4.5</td>\n",
       "      <td>4443407</td>\n",
       "      <td>67M</td>\n",
       "      <td>100,000,000+</td>\n",
       "      <td>Free</td>\n",
       "      <td>0</td>\n",
       "      <td>Everyone 10+</td>\n",
       "      <td>Adventure;Action &amp; Adventure</td>\n",
       "      <td>July 31, 2018</td>\n",
       "      <td>2.347.225742</td>\n",
       "      <td>4.1 and up</td>\n",
       "    </tr>\n",
       "    <tr>\n",
       "      <th>2206</th>\n",
       "      <td>ROBLOX</td>\n",
       "      <td>FAMILY</td>\n",
       "      <td>4.5</td>\n",
       "      <td>4450890</td>\n",
       "      <td>67M</td>\n",
       "      <td>100,000,000+</td>\n",
       "      <td>Free</td>\n",
       "      <td>0</td>\n",
       "      <td>Everyone 10+</td>\n",
       "      <td>Adventure;Action &amp; Adventure</td>\n",
       "      <td>July 31, 2018</td>\n",
       "      <td>2.347.225742</td>\n",
       "      <td>4.1 and up</td>\n",
       "    </tr>\n",
       "    <tr>\n",
       "      <th>1870</th>\n",
       "      <td>ROBLOX</td>\n",
       "      <td>GAME</td>\n",
       "      <td>4.5</td>\n",
       "      <td>4449910</td>\n",
       "      <td>67M</td>\n",
       "      <td>100,000,000+</td>\n",
       "      <td>Free</td>\n",
       "      <td>0</td>\n",
       "      <td>Everyone 10+</td>\n",
       "      <td>Adventure;Action &amp; Adventure</td>\n",
       "      <td>July 31, 2018</td>\n",
       "      <td>2.347.225742</td>\n",
       "      <td>4.1 and up</td>\n",
       "    </tr>\n",
       "    <tr>\n",
       "      <th>1841</th>\n",
       "      <td>ROBLOX</td>\n",
       "      <td>GAME</td>\n",
       "      <td>4.5</td>\n",
       "      <td>4449882</td>\n",
       "      <td>67M</td>\n",
       "      <td>100,000,000+</td>\n",
       "      <td>Free</td>\n",
       "      <td>0</td>\n",
       "      <td>Everyone 10+</td>\n",
       "      <td>Adventure;Action &amp; Adventure</td>\n",
       "      <td>July 31, 2018</td>\n",
       "      <td>2.347.225742</td>\n",
       "      <td>4.1 and up</td>\n",
       "    </tr>\n",
       "    <tr>\n",
       "      <th>1748</th>\n",
       "      <td>ROBLOX</td>\n",
       "      <td>GAME</td>\n",
       "      <td>4.5</td>\n",
       "      <td>4448791</td>\n",
       "      <td>67M</td>\n",
       "      <td>100,000,000+</td>\n",
       "      <td>Free</td>\n",
       "      <td>0</td>\n",
       "      <td>Everyone 10+</td>\n",
       "      <td>Adventure;Action &amp; Adventure</td>\n",
       "      <td>July 31, 2018</td>\n",
       "      <td>2.347.225742</td>\n",
       "      <td>4.1 and up</td>\n",
       "    </tr>\n",
       "    <tr>\n",
       "      <th>1701</th>\n",
       "      <td>ROBLOX</td>\n",
       "      <td>GAME</td>\n",
       "      <td>4.5</td>\n",
       "      <td>4447346</td>\n",
       "      <td>67M</td>\n",
       "      <td>100,000,000+</td>\n",
       "      <td>Free</td>\n",
       "      <td>0</td>\n",
       "      <td>Everyone 10+</td>\n",
       "      <td>Adventure;Action &amp; Adventure</td>\n",
       "      <td>July 31, 2018</td>\n",
       "      <td>2.347.225742</td>\n",
       "      <td>4.1 and up</td>\n",
       "    </tr>\n",
       "    <tr>\n",
       "      <th>1653</th>\n",
       "      <td>ROBLOX</td>\n",
       "      <td>GAME</td>\n",
       "      <td>4.5</td>\n",
       "      <td>4447388</td>\n",
       "      <td>67M</td>\n",
       "      <td>100,000,000+</td>\n",
       "      <td>Free</td>\n",
       "      <td>0</td>\n",
       "      <td>Everyone 10+</td>\n",
       "      <td>Adventure;Action &amp; Adventure</td>\n",
       "      <td>July 31, 2018</td>\n",
       "      <td>2.347.225742</td>\n",
       "      <td>4.1 and up</td>\n",
       "    </tr>\n",
       "    <tr>\n",
       "      <th>2016</th>\n",
       "      <td>ROBLOX</td>\n",
       "      <td>FAMILY</td>\n",
       "      <td>4.5</td>\n",
       "      <td>4449910</td>\n",
       "      <td>67M</td>\n",
       "      <td>100,000,000+</td>\n",
       "      <td>Free</td>\n",
       "      <td>0</td>\n",
       "      <td>Everyone 10+</td>\n",
       "      <td>Adventure;Action &amp; Adventure</td>\n",
       "      <td>July 31, 2018</td>\n",
       "      <td>2.347.225742</td>\n",
       "      <td>4.1 and up</td>\n",
       "    </tr>\n",
       "    <tr>\n",
       "      <th>2088</th>\n",
       "      <td>ROBLOX</td>\n",
       "      <td>FAMILY</td>\n",
       "      <td>4.5</td>\n",
       "      <td>4450855</td>\n",
       "      <td>67M</td>\n",
       "      <td>100,000,000+</td>\n",
       "      <td>Free</td>\n",
       "      <td>0</td>\n",
       "      <td>Everyone 10+</td>\n",
       "      <td>Adventure;Action &amp; Adventure</td>\n",
       "      <td>July 31, 2018</td>\n",
       "      <td>2.347.225742</td>\n",
       "      <td>4.1 and up</td>\n",
       "    </tr>\n",
       "  </tbody>\n",
       "</table>\n",
       "</div>"
      ],
      "text/plain": [
       "         App       Category  Rating  Reviews                Size  \\\n",
       "4069    ESPN         SPORTS     4.2   521081  Varies with device   \n",
       "3072    ESPN         SPORTS     4.2   521140  Varies with device   \n",
       "3060    ESPN         SPORTS     4.2   521140  Varies with device   \n",
       "3048    ESPN         SPORTS     4.2   521140  Varies with device   \n",
       "3018    ESPN         SPORTS     4.2   521138  Varies with device   \n",
       "3010    ESPN         SPORTS     4.2   521138  Varies with device   \n",
       "2959    ESPN         SPORTS     4.2   521138  Varies with device   \n",
       "917     Nick  ENTERTAINMENT     4.2   123279                 25M   \n",
       "2226    Nick         FAMILY     4.2   123322                 25M   \n",
       "6086    Nick         FAMILY     4.2   123309                 25M   \n",
       "992     Nick  ENTERTAINMENT     4.2   123279                 25M   \n",
       "963     Nick  ENTERTAINMENT     4.2   123279                 25M   \n",
       "937     Nick  ENTERTAINMENT     4.2   123279                 25M   \n",
       "4527  ROBLOX         FAMILY     4.5  4443407                 67M   \n",
       "2206  ROBLOX         FAMILY     4.5  4450890                 67M   \n",
       "1870  ROBLOX           GAME     4.5  4449910                 67M   \n",
       "1841  ROBLOX           GAME     4.5  4449882                 67M   \n",
       "1748  ROBLOX           GAME     4.5  4448791                 67M   \n",
       "1701  ROBLOX           GAME     4.5  4447346                 67M   \n",
       "1653  ROBLOX           GAME     4.5  4447388                 67M   \n",
       "2016  ROBLOX         FAMILY     4.5  4449910                 67M   \n",
       "2088  ROBLOX         FAMILY     4.5  4450855                 67M   \n",
       "\n",
       "          Installs  Type Price Content Rating                        Genres  \\\n",
       "4069   10,000,000+  Free     0   Everyone 10+                        Sports   \n",
       "3072   10,000,000+  Free     0   Everyone 10+                        Sports   \n",
       "3060   10,000,000+  Free     0   Everyone 10+                        Sports   \n",
       "3048   10,000,000+  Free     0   Everyone 10+                        Sports   \n",
       "3018   10,000,000+  Free     0   Everyone 10+                        Sports   \n",
       "3010   10,000,000+  Free     0   Everyone 10+                        Sports   \n",
       "2959   10,000,000+  Free     0   Everyone 10+                        Sports   \n",
       "917    10,000,000+  Free     0   Everyone 10+   Entertainment;Music & Video   \n",
       "2226   10,000,000+  Free     0   Everyone 10+   Entertainment;Music & Video   \n",
       "6086   10,000,000+  Free     0   Everyone 10+   Entertainment;Music & Video   \n",
       "992    10,000,000+  Free     0   Everyone 10+   Entertainment;Music & Video   \n",
       "963    10,000,000+  Free     0   Everyone 10+   Entertainment;Music & Video   \n",
       "937    10,000,000+  Free     0   Everyone 10+   Entertainment;Music & Video   \n",
       "4527  100,000,000+  Free     0   Everyone 10+  Adventure;Action & Adventure   \n",
       "2206  100,000,000+  Free     0   Everyone 10+  Adventure;Action & Adventure   \n",
       "1870  100,000,000+  Free     0   Everyone 10+  Adventure;Action & Adventure   \n",
       "1841  100,000,000+  Free     0   Everyone 10+  Adventure;Action & Adventure   \n",
       "1748  100,000,000+  Free     0   Everyone 10+  Adventure;Action & Adventure   \n",
       "1701  100,000,000+  Free     0   Everyone 10+  Adventure;Action & Adventure   \n",
       "1653  100,000,000+  Free     0   Everyone 10+  Adventure;Action & Adventure   \n",
       "2016  100,000,000+  Free     0   Everyone 10+  Adventure;Action & Adventure   \n",
       "2088  100,000,000+  Free     0   Everyone 10+  Adventure;Action & Adventure   \n",
       "\n",
       "          Last Updated         Current Ver Android Ver  \n",
       "4069     July 19, 2018  Varies with device  5.0 and up  \n",
       "3072     July 19, 2018  Varies with device  5.0 and up  \n",
       "3060     July 19, 2018  Varies with device  5.0 and up  \n",
       "3048     July 19, 2018  Varies with device  5.0 and up  \n",
       "3018     July 19, 2018  Varies with device  5.0 and up  \n",
       "3010     July 19, 2018  Varies with device  5.0 and up  \n",
       "2959     July 19, 2018  Varies with device  5.0 and up  \n",
       "917   January 24, 2018               2.0.8  4.4 and up  \n",
       "2226  January 24, 2018               2.0.8  4.4 and up  \n",
       "6086  January 24, 2018               2.0.8  4.4 and up  \n",
       "992   January 24, 2018               2.0.8  4.4 and up  \n",
       "963   January 24, 2018               2.0.8  4.4 and up  \n",
       "937   January 24, 2018               2.0.8  4.4 and up  \n",
       "4527     July 31, 2018        2.347.225742  4.1 and up  \n",
       "2206     July 31, 2018        2.347.225742  4.1 and up  \n",
       "1870     July 31, 2018        2.347.225742  4.1 and up  \n",
       "1841     July 31, 2018        2.347.225742  4.1 and up  \n",
       "1748     July 31, 2018        2.347.225742  4.1 and up  \n",
       "1701     July 31, 2018        2.347.225742  4.1 and up  \n",
       "1653     July 31, 2018        2.347.225742  4.1 and up  \n",
       "2016     July 31, 2018        2.347.225742  4.1 and up  \n",
       "2088     July 31, 2018        2.347.225742  4.1 and up  "
      ]
     },
     "execution_count": 9,
     "metadata": {},
     "output_type": "execute_result"
    }
   ],
   "source": [
    "#Taking 3 sample Apps for exploration\n",
    "df[df['App'].isin(['ROBLOX', 'ESPN','Nick'])].sort_values(by = 'App')"
   ]
  },
  {
   "cell_type": "markdown",
   "metadata": {
    "id": "FshyMVvEEfUF"
   },
   "source": [
    "Drops other duplicate entries keeping the App with the highest reviews"
   ]
  },
  {
   "cell_type": "code",
   "execution_count": 10,
   "metadata": {
    "id": "UWAboTYHEhwY"
   },
   "outputs": [],
   "source": [
    "#drops other duplicate entries keeping the App with the highest reviews\n",
    "df.drop_duplicates('App', inplace = True)"
   ]
  },
  {
   "cell_type": "markdown",
   "metadata": {
    "id": "nOCqg3aAEnZ8"
   },
   "source": [
    "verify that duplicates has been removed"
   ]
  },
  {
   "cell_type": "code",
   "execution_count": 11,
   "metadata": {
    "colab": {
     "base_uri": "https://localhost:8080/"
    },
    "id": "gXhF8ayXEmgT",
    "outputId": "f7182e52-b065-4b9b-ce26-57c613fa9924"
   },
   "outputs": [
    {
     "data": {
      "text/plain": [
       "Photo Editor & Candy Camera & Grid & ScrapBook    1\n",
       "CK Pharmacies                                     1\n",
       "CK Call NEW                                       1\n",
       "Ck Coif                                           1\n",
       "CONTRACT KILLER: ZOMBIES                          1\n",
       "CK Shop                                           1\n",
       "FlexBook                                          1\n",
       "Can Knockdown 3                                   1\n",
       "Fu*** Weather (Funny Weather)                     1\n",
       "OB-GYN USMLE Stp2 CK 300 Q & A                    1\n",
       "Name: App, dtype: int64"
      ]
     },
     "execution_count": 11,
     "metadata": {},
     "output_type": "execute_result"
    }
   ],
   "source": [
    "#Let's verify that duplicates has been removed\n",
    "df['App'].value_counts().head(10)"
   ]
  },
  {
   "cell_type": "markdown",
   "metadata": {
    "id": "HkdrTxEFEpVz"
   },
   "source": [
    "Check shape of the dataframe"
   ]
  },
  {
   "cell_type": "code",
   "execution_count": null,
   "metadata": {
    "colab": {
     "base_uri": "https://localhost:8080/"
    },
    "id": "halB-BPhErCA",
    "outputId": "d2e80d9a-dfeb-4ef4-ffaa-43bd1a7e8985"
   },
   "outputs": [
    {
     "data": {
      "text/plain": [
       "(9660, 13)"
      ]
     },
     "execution_count": 12,
     "metadata": {},
     "output_type": "execute_result"
    }
   ],
   "source": [
    "df.shape"
   ]
  },
  {
   "cell_type": "markdown",
   "metadata": {
    "id": "46oLXzYDbIi1"
   },
   "source": [
    "<font size=3> 5. Check the unique categories of the column 'Category', Is there are any invalid category? If yes drop them."
   ]
  },
  {
   "cell_type": "markdown",
   "metadata": {
    "id": "TOn2F-P7EvOu"
   },
   "source": [
    "Check out the App categories"
   ]
  },
  {
   "cell_type": "code",
   "execution_count": 12,
   "metadata": {
    "colab": {
     "base_uri": "https://localhost:8080/"
    },
    "id": "JTLn59x6EySt",
    "outputId": "b4bf5b1c-35a9-4842-eef3-9b47bb942d65"
   },
   "outputs": [
    {
     "data": {
      "text/plain": [
       "FAMILY                 1832\n",
       "GAME                    959\n",
       "TOOLS                   827\n",
       "BUSINESS                420\n",
       "MEDICAL                 395\n",
       "PERSONALIZATION         376\n",
       "PRODUCTIVITY            374\n",
       "LIFESTYLE               369\n",
       "FINANCE                 345\n",
       "SPORTS                  325\n",
       "COMMUNICATION           315\n",
       "HEALTH_AND_FITNESS      288\n",
       "PHOTOGRAPHY             281\n",
       "NEWS_AND_MAGAZINES      254\n",
       "SOCIAL                  239\n",
       "BOOKS_AND_REFERENCE     222\n",
       "TRAVEL_AND_LOCAL        219\n",
       "SHOPPING                202\n",
       "DATING                  171\n",
       "VIDEO_PLAYERS           163\n",
       "MAPS_AND_NAVIGATION     131\n",
       "EDUCATION               119\n",
       "FOOD_AND_DRINK          112\n",
       "ENTERTAINMENT           102\n",
       "AUTO_AND_VEHICLES        85\n",
       "LIBRARIES_AND_DEMO       84\n",
       "WEATHER                  79\n",
       "HOUSE_AND_HOME           74\n",
       "ART_AND_DESIGN           64\n",
       "EVENTS                   64\n",
       "PARENTING                60\n",
       "COMICS                   56\n",
       "BEAUTY                   53\n",
       "1.9                       1\n",
       "Name: Category, dtype: int64"
      ]
     },
     "execution_count": 12,
     "metadata": {},
     "output_type": "execute_result"
    }
   ],
   "source": [
    "# Let's check out the App categories\n",
    "df['Category'].value_counts()"
   ]
  },
  {
   "cell_type": "markdown",
   "metadata": {
    "id": "JoqG9uNFEyZf"
   },
   "source": [
    "Drop the category named 1.9, unknown category and invalid category"
   ]
  },
  {
   "cell_type": "code",
   "execution_count": 13,
   "metadata": {
    "colab": {
     "base_uri": "https://localhost:8080/",
     "height": 185
    },
    "id": "6uc8w2U7Ezfg",
    "outputId": "71573726-cf50-4cb9-a66d-ecfa89ceb429"
   },
   "outputs": [
    {
     "data": {
      "text/html": [
       "<div>\n",
       "<style scoped>\n",
       "    .dataframe tbody tr th:only-of-type {\n",
       "        vertical-align: middle;\n",
       "    }\n",
       "\n",
       "    .dataframe tbody tr th {\n",
       "        vertical-align: top;\n",
       "    }\n",
       "\n",
       "    .dataframe thead th {\n",
       "        text-align: right;\n",
       "    }\n",
       "</style>\n",
       "<table border=\"1\" class=\"dataframe\">\n",
       "  <thead>\n",
       "    <tr style=\"text-align: right;\">\n",
       "      <th></th>\n",
       "      <th>App</th>\n",
       "      <th>Category</th>\n",
       "      <th>Rating</th>\n",
       "      <th>Reviews</th>\n",
       "      <th>Size</th>\n",
       "      <th>Installs</th>\n",
       "      <th>Type</th>\n",
       "      <th>Price</th>\n",
       "      <th>Content Rating</th>\n",
       "      <th>Genres</th>\n",
       "      <th>Last Updated</th>\n",
       "      <th>Current Ver</th>\n",
       "      <th>Android Ver</th>\n",
       "    </tr>\n",
       "  </thead>\n",
       "  <tbody>\n",
       "    <tr>\n",
       "      <th>10472</th>\n",
       "      <td>Life Made WI-Fi Touchscreen Photo Frame</td>\n",
       "      <td>1.9</td>\n",
       "      <td>19.0</td>\n",
       "      <td>3.0M</td>\n",
       "      <td>1,000+</td>\n",
       "      <td>Free</td>\n",
       "      <td>0</td>\n",
       "      <td>Everyone</td>\n",
       "      <td>NaN</td>\n",
       "      <td>February 11, 2018</td>\n",
       "      <td>1.0.19</td>\n",
       "      <td>4.0 and up</td>\n",
       "      <td>NaN</td>\n",
       "    </tr>\n",
       "  </tbody>\n",
       "</table>\n",
       "</div>"
      ],
      "text/plain": [
       "                                           App Category  Rating Reviews  \\\n",
       "10472  Life Made WI-Fi Touchscreen Photo Frame      1.9    19.0    3.0M   \n",
       "\n",
       "         Size Installs Type     Price Content Rating             Genres  \\\n",
       "10472  1,000+     Free    0  Everyone            NaN  February 11, 2018   \n",
       "\n",
       "      Last Updated Current Ver Android Ver  \n",
       "10472       1.0.19  4.0 and up         NaN  "
      ]
     },
     "execution_count": 13,
     "metadata": {},
     "output_type": "execute_result"
    }
   ],
   "source": [
    "# Drop the category named 1.9, unknown category\n",
    "df[df['Category'] == '1.9']"
   ]
  },
  {
   "cell_type": "code",
   "execution_count": 14,
   "metadata": {
    "id": "zJp8wY1TYu5t"
   },
   "outputs": [],
   "source": [
    "# Dropping the invalid category(using its row number). Please note that we can replace it with a mode as well\n",
    "df.drop([10472],inplace=True)"
   ]
  },
  {
   "cell_type": "markdown",
   "metadata": {
    "id": "_Wsw6q0cbPSb"
   },
   "source": [
    "<font size=3> 6. Check if there are missing values present in the column Rating, If any? drop them and and create a new column as 'Rating_category' by converting ratings to high and low categories(>3.5 is high rest low)"
   ]
  },
  {
   "cell_type": "markdown",
   "metadata": {
    "id": "gTwAUzpOFaA0"
   },
   "source": [
    "Drop the NaN values"
   ]
  },
  {
   "cell_type": "code",
   "execution_count": 15,
   "metadata": {
    "id": "sDaDiZoS0eMP"
   },
   "outputs": [],
   "source": [
    "## Dropping missing values from the target column rating\n",
    "df.dropna(inplace = True)"
   ]
  },
  {
   "cell_type": "code",
   "execution_count": 16,
   "metadata": {
    "id": "ORf32dB-0eMP",
    "outputId": "3836b9eb-7e83-46d7-ceca-aaf460c9fec2"
   },
   "outputs": [
    {
     "data": {
      "text/plain": [
       "App               0\n",
       "Category          0\n",
       "Rating            0\n",
       "Reviews           0\n",
       "Size              0\n",
       "Installs          0\n",
       "Type              0\n",
       "Price             0\n",
       "Content Rating    0\n",
       "Genres            0\n",
       "Last Updated      0\n",
       "Current Ver       0\n",
       "Android Ver       0\n",
       "dtype: int64"
      ]
     },
     "execution_count": 16,
     "metadata": {},
     "output_type": "execute_result"
    }
   ],
   "source": [
    "df.isnull().sum()"
   ]
  },
  {
   "cell_type": "code",
   "execution_count": 17,
   "metadata": {
    "id": "0M2xGklpFpCE"
   },
   "outputs": [],
   "source": [
    "#convert ratings to high and low categories.\n",
    "Rating_cat = dict()\n",
    "for i in range(0,len(df['Rating'])):\n",
    "    if df['Rating'].iloc[i] >= 3.5:\n",
    "        Rating_cat[i] = 'High'\n",
    "    else: Rating_cat[i] = 'Low'\n",
    "        \n",
    "#Add the categorical column to the data \n",
    "df = df.assign(Rating_cat = pd.Series(Rating_cat).values)"
   ]
  },
  {
   "cell_type": "code",
   "execution_count": 18,
   "metadata": {
    "id": "6vIWdgTj0eMQ",
    "outputId": "0282ff75-d847-4ea3-bff7-1cb5b75e7ed8"
   },
   "outputs": [
    {
     "data": {
      "text/html": [
       "<div>\n",
       "<style scoped>\n",
       "    .dataframe tbody tr th:only-of-type {\n",
       "        vertical-align: middle;\n",
       "    }\n",
       "\n",
       "    .dataframe tbody tr th {\n",
       "        vertical-align: top;\n",
       "    }\n",
       "\n",
       "    .dataframe thead th {\n",
       "        text-align: right;\n",
       "    }\n",
       "</style>\n",
       "<table border=\"1\" class=\"dataframe\">\n",
       "  <thead>\n",
       "    <tr style=\"text-align: right;\">\n",
       "      <th></th>\n",
       "      <th>App</th>\n",
       "      <th>Category</th>\n",
       "      <th>Rating</th>\n",
       "      <th>Reviews</th>\n",
       "      <th>Size</th>\n",
       "      <th>Installs</th>\n",
       "      <th>Type</th>\n",
       "      <th>Price</th>\n",
       "      <th>Content Rating</th>\n",
       "      <th>Genres</th>\n",
       "      <th>Last Updated</th>\n",
       "      <th>Current Ver</th>\n",
       "      <th>Android Ver</th>\n",
       "      <th>Rating_cat</th>\n",
       "    </tr>\n",
       "  </thead>\n",
       "  <tbody>\n",
       "    <tr>\n",
       "      <th>0</th>\n",
       "      <td>Photo Editor &amp; Candy Camera &amp; Grid &amp; ScrapBook</td>\n",
       "      <td>ART_AND_DESIGN</td>\n",
       "      <td>4.1</td>\n",
       "      <td>159</td>\n",
       "      <td>19M</td>\n",
       "      <td>10,000+</td>\n",
       "      <td>Free</td>\n",
       "      <td>0</td>\n",
       "      <td>Everyone</td>\n",
       "      <td>Art &amp; Design</td>\n",
       "      <td>January 7, 2018</td>\n",
       "      <td>1.0.0</td>\n",
       "      <td>4.0.3 and up</td>\n",
       "      <td>High</td>\n",
       "    </tr>\n",
       "    <tr>\n",
       "      <th>1</th>\n",
       "      <td>Coloring book moana</td>\n",
       "      <td>ART_AND_DESIGN</td>\n",
       "      <td>3.9</td>\n",
       "      <td>967</td>\n",
       "      <td>14M</td>\n",
       "      <td>500,000+</td>\n",
       "      <td>Free</td>\n",
       "      <td>0</td>\n",
       "      <td>Everyone</td>\n",
       "      <td>Art &amp; Design;Pretend Play</td>\n",
       "      <td>January 15, 2018</td>\n",
       "      <td>2.0.0</td>\n",
       "      <td>4.0.3 and up</td>\n",
       "      <td>High</td>\n",
       "    </tr>\n",
       "  </tbody>\n",
       "</table>\n",
       "</div>"
      ],
      "text/plain": [
       "                                              App        Category  Rating  \\\n",
       "0  Photo Editor & Candy Camera & Grid & ScrapBook  ART_AND_DESIGN     4.1   \n",
       "1                             Coloring book moana  ART_AND_DESIGN     3.9   \n",
       "\n",
       "  Reviews Size  Installs  Type Price Content Rating  \\\n",
       "0     159  19M   10,000+  Free     0       Everyone   \n",
       "1     967  14M  500,000+  Free     0       Everyone   \n",
       "\n",
       "                      Genres      Last Updated Current Ver   Android Ver  \\\n",
       "0               Art & Design   January 7, 2018       1.0.0  4.0.3 and up   \n",
       "1  Art & Design;Pretend Play  January 15, 2018       2.0.0  4.0.3 and up   \n",
       "\n",
       "  Rating_cat  \n",
       "0       High  \n",
       "1       High  "
      ]
     },
     "execution_count": 18,
     "metadata": {},
     "output_type": "execute_result"
    }
   ],
   "source": [
    "df.head(2)"
   ]
  },
  {
   "cell_type": "markdown",
   "metadata": {
    "id": "AO4710au0eMQ"
   },
   "source": [
    "<font size=3> 7. Check the distribution of the newly created column 'Rating_category' and comment on the distribution."
   ]
  },
  {
   "cell_type": "code",
   "execution_count": 19,
   "metadata": {
    "colab": {
     "base_uri": "https://localhost:8080/"
    },
    "id": "YEeGSV7VF11Y",
    "outputId": "13e17f58-583a-4f76-b28c-3af169e241a3"
   },
   "outputs": [
    {
     "data": {
      "text/plain": [
       "High    91.245421\n",
       "Low      8.754579\n",
       "Name: Rating_cat, dtype: float64"
      ]
     },
     "execution_count": 19,
     "metadata": {},
     "output_type": "execute_result"
    }
   ],
   "source": [
    "df['Rating_cat'].value_counts(normalize = True)*100"
   ]
  },
  {
   "cell_type": "markdown",
   "metadata": {
    "id": "3fJdhl6uF3Da"
   },
   "source": [
    "Plot the same"
   ]
  },
  {
   "cell_type": "code",
   "execution_count": 20,
   "metadata": {
    "colab": {
     "base_uri": "https://localhost:8080/",
     "height": 300
    },
    "id": "ZzRRmYdbF6LR",
    "outputId": "a8f1a140-f98f-4358-f09f-367b9b4f2f8f"
   },
   "outputs": [
    {
     "data": {
      "image/png": "[encoded data removed]",
      "text/plain": [
       "<Figure size 640x480 with 1 Axes>"
      ]
     },
     "metadata": {},
     "output_type": "display_data"
    }
   ],
   "source": [
    "df['Rating_cat'].value_counts().plot(kind = 'bar')\n",
    "plt.show()"
   ]
  },
  {
   "cell_type": "markdown",
   "metadata": {
    "id": "6t69a1CI0eMR"
   },
   "source": [
    "- The target class is highly imbalanced."
   ]
  },
  {
   "cell_type": "markdown",
   "metadata": {
    "id": "ww3QhrQqc9ml"
   },
   "source": [
    "<font size=3>8. Convert the column \"Reviews\" to numeric datatype and check the presence of outliers in the column and handle the outliers using transformation approach.(Hint: Use log transformation)"
   ]
  },
  {
   "cell_type": "code",
   "execution_count": 21,
   "metadata": {
    "id": "YYc1B1MJ0eMR",
    "outputId": "79aa8c5c-d640-4cd3-8fcc-b2f645ec6e43"
   },
   "outputs": [
    {
     "data": {
      "text/plain": [
       "dtype('O')"
      ]
     },
     "execution_count": 21,
     "metadata": {},
     "output_type": "execute_result"
    }
   ],
   "source": [
    "## datatype before conversion\n",
    "df['Reviews'].dtype"
   ]
  },
  {
   "cell_type": "code",
   "execution_count": 22,
   "metadata": {
    "id": "gJHk56dKF-Ed"
   },
   "outputs": [],
   "source": [
    "# Convert Reviews to numeric\n",
    "df['Reviews'] = pd.to_numeric(df.Reviews, errors = 'coerce')"
   ]
  },
  {
   "cell_type": "code",
   "execution_count": 23,
   "metadata": {
    "id": "1yS1Nuoz0eMS",
    "outputId": "1da1f94b-bb7b-49a6-dd13-c87e36361b5b"
   },
   "outputs": [
    {
     "data": {
      "text/plain": [
       "dtype('int64')"
      ]
     },
     "execution_count": 23,
     "metadata": {},
     "output_type": "execute_result"
    }
   ],
   "source": [
    "## datatype after conversion\n",
    "df['Reviews'].dtype"
   ]
  },
  {
   "cell_type": "code",
   "execution_count": 24,
   "metadata": {
    "id": "wV3j-yIv0eMS",
    "outputId": "32739917-803c-4ed9-e3bc-e50fbd238148"
   },
   "outputs": [
    {
     "data": {
      "image/png": "[encoded data removed]",
      "text/plain": [
       "<Figure size 640x480 with 1 Axes>"
      ]
     },
     "metadata": {},
     "output_type": "display_data"
    }
   ],
   "source": [
    "## check the presence of outliers\n",
    "sns.boxplot(df['Reviews'])\n",
    "plt.show()"
   ]
  },
  {
   "cell_type": "markdown",
   "metadata": {
    "id": "JFwW0G3q0eMS"
   },
   "source": [
    "- As we can observe the column reviews have high positive skewness. Lets reduce the skewness using log transformation approach."
   ]
  },
  {
   "cell_type": "code",
   "execution_count": 25,
   "metadata": {
    "id": "kjV92HS60eMT"
   },
   "outputs": [],
   "source": [
    "## reducing skewness using log transformation approach\n",
    "df['Reviews'] = np.log(df['Reviews'])"
   ]
  },
  {
   "cell_type": "code",
   "execution_count": 26,
   "metadata": {
    "id": "HLRBhMz40eMT",
    "outputId": "3a61624f-d618-4c85-db0f-b13da992946e"
   },
   "outputs": [
    {
     "data": {
      "image/png": "[encoded data removed]",
      "text/plain": [
       "<Figure size 640x480 with 1 Axes>"
      ]
     },
     "metadata": {},
     "output_type": "display_data"
    }
   ],
   "source": [
    "## Boxplot after transformation\n",
    "sns.boxplot(df['Reviews'])\n",
    "plt.show()"
   ]
  },
  {
   "cell_type": "markdown",
   "metadata": {
    "id": "-lnHgA-V0eMT"
   },
   "source": [
    "- As we can observe after log transformation the column reviews is been normally distributed and free of outliers."
   ]
  },
  {
   "cell_type": "markdown",
   "metadata": {
    "id": "0adY2cPpbS8U"
   },
   "source": [
    "<font size=3> 9. The column 'Size' contain alphanumeric values, treat the non numeric data and convert the column into suitable datatype. (hint: Replace M with 1 million and K with 1 thousand, and drop the entries where size='Varies with device')"
   ]
  },
  {
   "cell_type": "code",
   "execution_count": 27,
   "metadata": {
    "colab": {
     "base_uri": "https://localhost:8080/"
    },
    "id": "qeq2QJQrGZE0",
    "outputId": "1dd82eb8-cbc1-4519-aa28-c68f8070e558"
   },
   "outputs": [
    {
     "data": {
      "text/plain": [
       "0     19M\n",
       "1     14M\n",
       "2    8.7M\n",
       "3     25M\n",
       "4    2.8M\n",
       "Name: Size, dtype: object"
      ]
     },
     "execution_count": 27,
     "metadata": {},
     "output_type": "execute_result"
    }
   ],
   "source": [
    "df['Size'].head(5)"
   ]
  },
  {
   "cell_type": "code",
   "execution_count": 28,
   "metadata": {
    "id": "Oycacodj0eMU"
   },
   "outputs": [],
   "source": [
    "## Dropping the entries where size='Varies with device'\n",
    "df = df[df['Size'] != 'Varies with device']"
   ]
  },
  {
   "cell_type": "markdown",
   "metadata": {
    "id": "VG-0so-IGa8W"
   },
   "source": [
    "Replace M with 1 million and k with 1 thousand"
   ]
  },
  {
   "cell_type": "code",
   "execution_count": 29,
   "metadata": {
    "id": "lXgMIUIL0eMU"
   },
   "outputs": [],
   "source": [
    "def convert(entry):\n",
    "        if entry[-1] == 'k':\n",
    "            new_entry = float(entry.replace('k',''))*1000\n",
    "        else:\n",
    "            new_entry = float(entry.replace('M',''))*1000000\n",
    "        return new_entry"
   ]
  },
  {
   "cell_type": "code",
   "execution_count": 30,
   "metadata": {
    "id": "G_Azl5L80eMV"
   },
   "outputs": [],
   "source": [
    "## applying the above function to column 'Size'\n",
    "df['Size'] = df['Size'].apply(lambda x : convert(x))"
   ]
  },
  {
   "cell_type": "code",
   "execution_count": 31,
   "metadata": {
    "id": "oVCZQGNf0eMV",
    "outputId": "e9c787fc-340b-4224-9c5e-5c066e444591"
   },
   "outputs": [
    {
     "data": {
      "text/plain": [
       "0    19000000.0\n",
       "1    14000000.0\n",
       "2     8700000.0\n",
       "3    25000000.0\n",
       "4     2800000.0\n",
       "Name: Size, dtype: float64"
      ]
     },
     "execution_count": 31,
     "metadata": {},
     "output_type": "execute_result"
    }
   ],
   "source": [
    "df['Size'].head()"
   ]
  },
  {
   "cell_type": "markdown",
   "metadata": {
    "id": "rCRHLDFXdGRA"
   },
   "source": [
    "<font size=3> 10. Check the column 'Installs',  treat the unwanted characters and convert the column into suitable dataype."
   ]
  },
  {
   "cell_type": "code",
   "execution_count": 32,
   "metadata": {
    "id": "gLO0e6Us0eMV",
    "outputId": "ca434b96-a73f-431f-ea77-f67dc9146ed9"
   },
   "outputs": [
    {
     "data": {
      "text/plain": [
       "array(['10,000+', '500,000+', '5,000,000+', '50,000,000+', '100,000+',\n",
       "       '50,000+', '1,000,000+', '10,000,000+', '5,000+', '100,000,000+',\n",
       "       '1,000+', '500,000,000+', '100+', '500+', '10+', '1,000,000,000+',\n",
       "       '5+', '50+', '1+'], dtype=object)"
      ]
     },
     "execution_count": 32,
     "metadata": {},
     "output_type": "execute_result"
    }
   ],
   "source": [
    "df['Installs'].unique()"
   ]
  },
  {
   "cell_type": "markdown",
   "metadata": {
    "id": "CvoX1tn00eMW"
   },
   "source": [
    "- We can observe **,** and **+**,lets remove those "
   ]
  },
  {
   "cell_type": "code",
   "execution_count": 33,
   "metadata": {
    "id": "a6DF3jY_JPAI"
   },
   "outputs": [],
   "source": [
    "# Replacing , and + \n",
    "df['Installs'] = df['Installs'].str.replace(',','').str.replace('+','')"
   ]
  },
  {
   "cell_type": "code",
   "execution_count": 34,
   "metadata": {
    "id": "vV7eFG9LJSru"
   },
   "outputs": [],
   "source": [
    "# Convert to numeric type\n",
    "df['Installs'] = pd.to_numeric(df['Installs'], errors = 'coerce')"
   ]
  },
  {
   "cell_type": "code",
   "execution_count": 35,
   "metadata": {
    "id": "4eLWn1g50eMW",
    "outputId": "74f5f916-d187-463a-f6bb-81362e49e62e"
   },
   "outputs": [
    {
     "data": {
      "text/plain": [
       "0       10000\n",
       "1      500000\n",
       "2     5000000\n",
       "3    50000000\n",
       "4      100000\n",
       "Name: Installs, dtype: int64"
      ]
     },
     "execution_count": 35,
     "metadata": {},
     "output_type": "execute_result"
    }
   ],
   "source": [
    "df['Installs'].head()"
   ]
  },
  {
   "cell_type": "markdown",
   "metadata": {
    "id": "dDuAJMS8wjXM"
   },
   "source": [
    "<font size=3> 11. Check the column 'Price' remove the unwanted characters and convert the column into suitable datatype."
   ]
  },
  {
   "cell_type": "code",
   "execution_count": 36,
   "metadata": {
    "id": "8kOAhghy0eMW",
    "outputId": "3f2f9522-d3de-450e-f781-0f893b35d640"
   },
   "outputs": [
    {
     "data": {
      "text/plain": [
       "array(['0', '$4.99', '$6.99', '$7.99', '$3.99', '$5.99', '$2.99', '$1.99',\n",
       "       '$9.99', '$0.99', '$9.00', '$5.49', '$10.00', '$24.99', '$11.99',\n",
       "       '$79.99', '$16.99', '$14.99', '$29.99', '$12.99', '$3.49',\n",
       "       '$10.99', '$7.49', '$1.50', '$19.99', '$15.99', '$33.99', '$39.99',\n",
       "       '$2.49', '$4.49', '$1.70', '$1.49', '$3.88', '$399.99', '$17.99',\n",
       "       '$400.00', '$3.02', '$1.76', '$4.84', '$4.77', '$1.61', '$1.59',\n",
       "       '$6.49', '$1.29', '$299.99', '$379.99', '$37.99', '$18.99',\n",
       "       '$389.99', '$8.49', '$1.75', '$14.00', '$2.00', '$3.08', '$2.59',\n",
       "       '$19.40', '$15.46', '$8.99', '$3.04', '$13.99', '$4.29', '$3.28',\n",
       "       '$4.60', '$1.00', '$2.90', '$1.97', '$2.56', '$1.20'], dtype=object)"
      ]
     },
     "execution_count": 36,
     "metadata": {},
     "output_type": "execute_result"
    }
   ],
   "source": [
    "df['Price'].unique()"
   ]
  },
  {
   "cell_type": "markdown",
   "metadata": {
    "id": "z9L2a8aVJrhK"
   },
   "source": [
    "Replace $ with space"
   ]
  },
  {
   "cell_type": "code",
   "execution_count": 37,
   "metadata": {
    "id": "ncHu33YZJtwv"
   },
   "outputs": [],
   "source": [
    "df['Price'] = df['Price'].str.replace('$', '')"
   ]
  },
  {
   "cell_type": "markdown",
   "metadata": {
    "id": "OvmRvBVzJu-O"
   },
   "source": [
    "convert column to numeric, dropping non numeric values"
   ]
  },
  {
   "cell_type": "code",
   "execution_count": 39,
   "metadata": {
    "id": "AcBxTALzJwhI"
   },
   "outputs": [],
   "source": [
    "# convert column to numeric, dropping non numeric values\n",
    "df['Price'] = pd.to_numeric(df['Price'], errors = 'coerce')"
   ]
  },
  {
   "cell_type": "code",
   "execution_count": 38,
   "metadata": {
    "id": "R1LBwhl90eMZ",
    "outputId": "d365a680-9c9a-4c39-c65a-8e6889b91f9b"
   },
   "outputs": [
    {
     "data": {
      "text/plain": [
       "array(['0', '4.99', '6.99', '7.99', '3.99', '5.99', '2.99', '1.99',\n",
       "       '9.99', '0.99', '9.00', '5.49', '10.00', '24.99', '11.99', '79.99',\n",
       "       '16.99', '14.99', '29.99', '12.99', '3.49', '10.99', '7.49',\n",
       "       '1.50', '19.99', '15.99', '33.99', '39.99', '2.49', '4.49', '1.70',\n",
       "       '1.49', '3.88', '399.99', '17.99', '400.00', '3.02', '1.76',\n",
       "       '4.84', '4.77', '1.61', '1.59', '6.49', '1.29', '299.99', '379.99',\n",
       "       '37.99', '18.99', '389.99', '8.49', '1.75', '14.00', '2.00',\n",
       "       '3.08', '2.59', '19.40', '15.46', '8.99', '3.04', '13.99', '4.29',\n",
       "       '3.28', '4.60', '1.00', '2.90', '1.97', '2.56', '1.20'],\n",
       "      dtype=object)"
      ]
     },
     "execution_count": 38,
     "metadata": {},
     "output_type": "execute_result"
    }
   ],
   "source": [
    "df['Price'].unique()"
   ]
  },
  {
   "cell_type": "markdown",
   "metadata": {
    "id": "DHotj3WN0eMZ"
   },
   "source": [
    "<font size=3> 12. Drop the columns which you think redundant for the analysis.\n",
    "(suggestion: drop column 'rating', since we created a new feature from it (i.e. rating_category)\n",
    "and the columns 'App', 'Rating' ,'Genres','Last Updated', 'Current Ver','Android Ver' columns since which are redundant for our analysis)"
   ]
  },
  {
   "cell_type": "markdown",
   "metadata": {
    "id": "A--0RzNRJ6UX"
   },
   "source": [
    "Drop 'App', 'Rating' ,'Genres','Last Updated', 'Current Ver','Android Ver' columns"
   ]
  },
  {
   "cell_type": "code",
   "execution_count": 40,
   "metadata": {
    "id": "Kt-2hUcGKET4"
   },
   "outputs": [],
   "source": [
    "df = df.drop(['App','Rating','Genres','Last Updated', 'Current Ver','Android Ver' ], axis = 1)"
   ]
  },
  {
   "cell_type": "code",
   "execution_count": 41,
   "metadata": {
    "colab": {
     "base_uri": "https://localhost:8080/"
    },
    "id": "hKabpjbdYu6F",
    "outputId": "91124be2-a311-45d4-af45-9a93187be871"
   },
   "outputs": [
    {
     "data": {
      "text/html": [
       "<div>\n",
       "<style scoped>\n",
       "    .dataframe tbody tr th:only-of-type {\n",
       "        vertical-align: middle;\n",
       "    }\n",
       "\n",
       "    .dataframe tbody tr th {\n",
       "        vertical-align: top;\n",
       "    }\n",
       "\n",
       "    .dataframe thead th {\n",
       "        text-align: right;\n",
       "    }\n",
       "</style>\n",
       "<table border=\"1\" class=\"dataframe\">\n",
       "  <thead>\n",
       "    <tr style=\"text-align: right;\">\n",
       "      <th></th>\n",
       "      <th>Category</th>\n",
       "      <th>Reviews</th>\n",
       "      <th>Size</th>\n",
       "      <th>Installs</th>\n",
       "      <th>Type</th>\n",
       "      <th>Price</th>\n",
       "      <th>Content Rating</th>\n",
       "      <th>Rating_cat</th>\n",
       "    </tr>\n",
       "  </thead>\n",
       "  <tbody>\n",
       "    <tr>\n",
       "      <th>0</th>\n",
       "      <td>ART_AND_DESIGN</td>\n",
       "      <td>5.068904</td>\n",
       "      <td>19000000.0</td>\n",
       "      <td>10000</td>\n",
       "      <td>Free</td>\n",
       "      <td>0.0</td>\n",
       "      <td>Everyone</td>\n",
       "      <td>High</td>\n",
       "    </tr>\n",
       "    <tr>\n",
       "      <th>1</th>\n",
       "      <td>ART_AND_DESIGN</td>\n",
       "      <td>6.874198</td>\n",
       "      <td>14000000.0</td>\n",
       "      <td>500000</td>\n",
       "      <td>Free</td>\n",
       "      <td>0.0</td>\n",
       "      <td>Everyone</td>\n",
       "      <td>High</td>\n",
       "    </tr>\n",
       "  </tbody>\n",
       "</table>\n",
       "</div>"
      ],
      "text/plain": [
       "         Category   Reviews        Size  Installs  Type  Price Content Rating  \\\n",
       "0  ART_AND_DESIGN  5.068904  19000000.0     10000  Free    0.0       Everyone   \n",
       "1  ART_AND_DESIGN  6.874198  14000000.0    500000  Free    0.0       Everyone   \n",
       "\n",
       "  Rating_cat  \n",
       "0       High  \n",
       "1       High  "
      ]
     },
     "execution_count": 41,
     "metadata": {},
     "output_type": "execute_result"
    }
   ],
   "source": [
    "df.head(2)"
   ]
  },
  {
   "cell_type": "markdown",
   "metadata": {
    "id": "dynpM1JEJ_6p"
   },
   "source": [
    "<font size=3> 13. Encode the categorical columns"
   ]
  },
  {
   "cell_type": "code",
   "execution_count": 42,
   "metadata": {
    "id": "ksrPefFc0eMb"
   },
   "outputs": [],
   "source": [
    "## Encoding categorical variables using label encoder\n",
    "\n",
    "## select object datatype variables\n",
    "object_type_variables = [i for i in df.columns if df.dtypes[i] == object]\n",
    "object_type_variables \n",
    "\n",
    "\n",
    "le = LabelEncoder()\n",
    "\n",
    "def encoder(df):\n",
    "    for i in object_type_variables:\n",
    "        q = le.fit_transform(df[i].astype(str))  \n",
    "        df[i] = q                               \n",
    "        df[i] = df[i].astype(int)\n",
    "encoder(df)"
   ]
  },
  {
   "cell_type": "code",
   "execution_count": 43,
   "metadata": {
    "id": "914iNHDC0eMb",
    "outputId": "87c140bc-2408-40f4-8b6d-a270f1a14e71"
   },
   "outputs": [
    {
     "data": {
      "text/html": [
       "<div>\n",
       "<style scoped>\n",
       "    .dataframe tbody tr th:only-of-type {\n",
       "        vertical-align: middle;\n",
       "    }\n",
       "\n",
       "    .dataframe tbody tr th {\n",
       "        vertical-align: top;\n",
       "    }\n",
       "\n",
       "    .dataframe thead th {\n",
       "        text-align: right;\n",
       "    }\n",
       "</style>\n",
       "<table border=\"1\" class=\"dataframe\">\n",
       "  <thead>\n",
       "    <tr style=\"text-align: right;\">\n",
       "      <th></th>\n",
       "      <th>Category</th>\n",
       "      <th>Reviews</th>\n",
       "      <th>Size</th>\n",
       "      <th>Installs</th>\n",
       "      <th>Type</th>\n",
       "      <th>Price</th>\n",
       "      <th>Content Rating</th>\n",
       "      <th>Rating_cat</th>\n",
       "    </tr>\n",
       "  </thead>\n",
       "  <tbody>\n",
       "    <tr>\n",
       "      <th>0</th>\n",
       "      <td>0</td>\n",
       "      <td>5.068904</td>\n",
       "      <td>19000000.0</td>\n",
       "      <td>10000</td>\n",
       "      <td>0</td>\n",
       "      <td>0.0</td>\n",
       "      <td>1</td>\n",
       "      <td>0</td>\n",
       "    </tr>\n",
       "    <tr>\n",
       "      <th>1</th>\n",
       "      <td>0</td>\n",
       "      <td>6.874198</td>\n",
       "      <td>14000000.0</td>\n",
       "      <td>500000</td>\n",
       "      <td>0</td>\n",
       "      <td>0.0</td>\n",
       "      <td>1</td>\n",
       "      <td>0</td>\n",
       "    </tr>\n",
       "  </tbody>\n",
       "</table>\n",
       "</div>"
      ],
      "text/plain": [
       "   Category   Reviews        Size  Installs  Type  Price  Content Rating  \\\n",
       "0         0  5.068904  19000000.0     10000     0    0.0               1   \n",
       "1         0  6.874198  14000000.0    500000     0    0.0               1   \n",
       "\n",
       "   Rating_cat  \n",
       "0           0  \n",
       "1           0  "
      ]
     },
     "execution_count": 43,
     "metadata": {},
     "output_type": "execute_result"
    }
   ],
   "source": [
    "df.head(2)"
   ]
  },
  {
   "cell_type": "markdown",
   "metadata": {
    "id": "z1mBoWkg0eMb"
   },
   "source": [
    "<font size=3> 14. Segregate the target and independent features (Hint: Use Rating_category as the target)"
   ]
  },
  {
   "cell_type": "code",
   "execution_count": 44,
   "metadata": {
    "id": "dGvo4n8y0eMc"
   },
   "outputs": [],
   "source": [
    "X = df.drop('Rating_cat',axis=1)\n",
    "y = df['Rating_cat']"
   ]
  },
  {
   "cell_type": "markdown",
   "metadata": {
    "id": "gtHdD6Z70eMc"
   },
   "source": [
    "<font size=3> 15. Split the dataset into train and test"
   ]
  },
  {
   "cell_type": "code",
   "execution_count": 45,
   "metadata": {
    "id": "jhGn2EtB0eMc",
    "outputId": "6c811695-208a-43ac-cde1-f10889810ec6"
   },
   "outputs": [
    {
     "name": "stdout",
     "output_type": "stream",
     "text": [
      "(4914, 7) (2107, 7)\n",
      "(4914,) (2107,)\n"
     ]
    }
   ],
   "source": [
    "X_train, X_test, y_train, y_test = train_test_split(X,y, test_size=0.30, random_state=42)\n",
    "\n",
    "print(X_train.shape,X_test.shape)\n",
    "print(y_train.shape,y_test.shape)"
   ]
  },
  {
   "cell_type": "markdown",
   "metadata": {
    "id": "SW2RqINo0eMc"
   },
   "source": [
    "<font size=3> 16. Standardize the data, so that the values are within a particular range."
   ]
  },
  {
   "cell_type": "code",
   "execution_count": 46,
   "metadata": {
    "id": "Q6C2pO_M0eMc"
   },
   "outputs": [],
   "source": [
    "## Tranforming the data using minmax scaling approach so that the values range will be 1.\n",
    "\n",
    "mm = MinMaxScaler()\n",
    "\n",
    "X_train.iloc[:,:] = mm.fit_transform(X_train.iloc[:,:])\n",
    "X_test.iloc[:,:] = mm.transform(X_test.iloc[:,:])"
   ]
  },
  {
   "cell_type": "code",
   "execution_count": 47,
   "metadata": {
    "id": "jUQ83wbt0eMc",
    "outputId": "c3124953-1155-48b9-d173-1dc9476f23c7"
   },
   "outputs": [
    {
     "data": {
      "text/html": [
       "<div>\n",
       "<style scoped>\n",
       "    .dataframe tbody tr th:only-of-type {\n",
       "        vertical-align: middle;\n",
       "    }\n",
       "\n",
       "    .dataframe tbody tr th {\n",
       "        vertical-align: top;\n",
       "    }\n",
       "\n",
       "    .dataframe thead th {\n",
       "        text-align: right;\n",
       "    }\n",
       "</style>\n",
       "<table border=\"1\" class=\"dataframe\">\n",
       "  <thead>\n",
       "    <tr style=\"text-align: right;\">\n",
       "      <th></th>\n",
       "      <th>Category</th>\n",
       "      <th>Reviews</th>\n",
       "      <th>Size</th>\n",
       "      <th>Installs</th>\n",
       "      <th>Type</th>\n",
       "      <th>Price</th>\n",
       "      <th>Content Rating</th>\n",
       "    </tr>\n",
       "  </thead>\n",
       "  <tbody>\n",
       "    <tr>\n",
       "      <th>2842</th>\n",
       "      <td>0.7500</td>\n",
       "      <td>0.476262</td>\n",
       "      <td>0.044919</td>\n",
       "      <td>0.00200</td>\n",
       "      <td>0.0</td>\n",
       "      <td>0.000000</td>\n",
       "      <td>0.2</td>\n",
       "    </tr>\n",
       "    <tr>\n",
       "      <th>6534</th>\n",
       "      <td>0.4375</td>\n",
       "      <td>0.354274</td>\n",
       "      <td>0.058920</td>\n",
       "      <td>0.00001</td>\n",
       "      <td>1.0</td>\n",
       "      <td>0.017475</td>\n",
       "      <td>0.8</td>\n",
       "    </tr>\n",
       "  </tbody>\n",
       "</table>\n",
       "</div>"
      ],
      "text/plain": [
       "      Category   Reviews      Size  Installs  Type     Price  Content Rating\n",
       "2842    0.7500  0.476262  0.044919   0.00200   0.0  0.000000             0.2\n",
       "6534    0.4375  0.354274  0.058920   0.00001   1.0  0.017475             0.8"
      ]
     },
     "execution_count": 47,
     "metadata": {},
     "output_type": "execute_result"
    }
   ],
   "source": [
    "## just checking few samples after scaling\n",
    "X_train.head(2)"
   ]
  },
  {
   "cell_type": "code",
   "execution_count": 48,
   "metadata": {
    "id": "joKgtvh-0eMc",
    "outputId": "a978498a-fa80-4347-b31a-87c97bd37be0"
   },
   "outputs": [
    {
     "data": {
      "text/html": [
       "<div>\n",
       "<style scoped>\n",
       "    .dataframe tbody tr th:only-of-type {\n",
       "        vertical-align: middle;\n",
       "    }\n",
       "\n",
       "    .dataframe tbody tr th {\n",
       "        vertical-align: top;\n",
       "    }\n",
       "\n",
       "    .dataframe thead th {\n",
       "        text-align: right;\n",
       "    }\n",
       "</style>\n",
       "<table border=\"1\" class=\"dataframe\">\n",
       "  <thead>\n",
       "    <tr style=\"text-align: right;\">\n",
       "      <th></th>\n",
       "      <th>Category</th>\n",
       "      <th>Reviews</th>\n",
       "      <th>Size</th>\n",
       "      <th>Installs</th>\n",
       "      <th>Type</th>\n",
       "      <th>Price</th>\n",
       "      <th>Content Rating</th>\n",
       "    </tr>\n",
       "  </thead>\n",
       "  <tbody>\n",
       "    <tr>\n",
       "      <th>6285</th>\n",
       "      <td>0.84375</td>\n",
       "      <td>0.627872</td>\n",
       "      <td>0.109924</td>\n",
       "      <td>0.0020</td>\n",
       "      <td>0.0</td>\n",
       "      <td>0.0</td>\n",
       "      <td>0.6</td>\n",
       "    </tr>\n",
       "    <tr>\n",
       "      <th>4305</th>\n",
       "      <td>0.43750</td>\n",
       "      <td>0.440562</td>\n",
       "      <td>0.619968</td>\n",
       "      <td>0.0002</td>\n",
       "      <td>0.0</td>\n",
       "      <td>0.0</td>\n",
       "      <td>0.2</td>\n",
       "    </tr>\n",
       "  </tbody>\n",
       "</table>\n",
       "</div>"
      ],
      "text/plain": [
       "      Category   Reviews      Size  Installs  Type  Price  Content Rating\n",
       "6285   0.84375  0.627872  0.109924    0.0020   0.0    0.0             0.6\n",
       "4305   0.43750  0.440562  0.619968    0.0002   0.0    0.0             0.2"
      ]
     },
     "execution_count": 48,
     "metadata": {},
     "output_type": "execute_result"
    }
   ],
   "source": [
    "## just checking few sample after sacling\n",
    "X_test.head(2)"
   ]
  }
 ],
 "metadata": {
  "colab": {
   "provenance": []
  },
  "kernelspec": {
   "display_name": "Python 3 (ipykernel)",
   "language": "python",
   "name": "python3"
  },
  "language_info": {
   "codemirror_mode": {
    "name": "ipython",
    "version": 3
   },
   "file_extension": ".py",
   "mimetype": "text/x-python",
   "name": "python",
   "nbconvert_exporter": "python",
   "pygments_lexer": "ipython3",
   "version": "3.9.13"
  }
 },
 "nbformat": 4,
 "nbformat_minor": 1
}
